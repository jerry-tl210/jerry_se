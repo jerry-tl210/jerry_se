{
 "cells": [
  {
   "cell_type": "code",
   "execution_count": 1,
   "metadata": {},
   "outputs": [
    {
     "data": {
      "text/plain": [
       "'/work/jerry_se'"
      ]
     },
     "execution_count": 1,
     "metadata": {},
     "output_type": "execute_result"
    }
   ],
   "source": [
    "import os\n",
    "import sys\n",
    "import json\n",
    "import copy\n",
    "import re\n",
    "from tqdm import tqdm\n",
    "\n",
    "w_dir = %pwd\n",
    "work_dir = os.path.dirname(w_dir)\n",
    "w_dir"
   ]
  },
  {
   "cell_type": "code",
   "execution_count": 2,
   "metadata": {},
   "outputs": [],
   "source": [
    "sys.path.append(w_dir+'/src')"
   ]
  },
  {
   "cell_type": "code",
   "execution_count": 3,
   "metadata": {},
   "outputs": [],
   "source": [
    "from src.std import *\n",
    "from src import config"
   ]
  },
  {
   "cell_type": "code",
   "execution_count": 4,
   "metadata": {},
   "outputs": [
    {
     "data": {
      "text/plain": [
       "PosixPath('/work/jerry_se/data/FGC/FGC_release_1.7.13/FGC_release_all_dev.json')"
      ]
     },
     "execution_count": 4,
     "metadata": {},
     "output_type": "execute_result"
    }
   ],
   "source": [
    "config.FGC_DEV"
   ]
  },
  {
   "cell_type": "code",
   "execution_count": 5,
   "metadata": {},
   "outputs": [
    {
     "name": "stderr",
     "output_type": "stream",
     "text": [
      "I0813 10:12:27.264606 140444477138752 file_utils.py:39] PyTorch version 1.2.0+cu92 available.\n",
      "I0813 10:12:28.825057 140444477138752 tokenization_utils_base.py:1254] loading file https://s3.amazonaws.com/models.huggingface.co/bert/bert-base-chinese-vocab.txt from cache at /root/.cache/torch/transformers/8a0c070123c1f794c42a29c6904beb7c1b8715741e235bee04aca2c7636fc83f.9b42061518a39ca00b8b52059fd2bede8daa613f8a8671500e518a8c29de8c00\n"
     ]
    }
   ],
   "source": [
    "from src.preprocess import AttnDataset, data_preprocessing"
   ]
  },
  {
   "cell_type": "code",
   "execution_count": 6,
   "metadata": {},
   "outputs": [
    {
     "name": "stderr",
     "output_type": "stream",
     "text": [
      "100%|██████████| 247/247 [00:00<00:00, 2725.81it/s]\n"
     ]
    }
   ],
   "source": [
    "attentionDataset = AttnDataset(config.FGC_DEV)"
   ]
  },
  {
   "cell_type": "code",
   "execution_count": 7,
   "metadata": {},
   "outputs": [
    {
     "name": "stderr",
     "output_type": "stream",
     "text": [
      "100%|██████████| 247/247 [00:00<00:00, 2330.99it/s]\n"
     ]
    }
   ],
   "source": [
    "data = json_load(config.FGC_DEV)\n",
    "examples = data_preprocessing(data, 3)"
   ]
  },
  {
   "cell_type": "code",
   "execution_count": 11,
   "metadata": {},
   "outputs": [
    {
     "data": {
      "text/plain": [
       "{'documentSentences': ['苏轼（1037年1月8日－1101年8月24日），',\n",
       "  '眉州眉山（今四川省眉山市）人，',\n",
       "  '北宋时著名的文学家、政治家、艺术家、医学家。',\n",
       "  '字子瞻，一字和仲，',\n",
       "  '号东坡居士、铁冠道人。',\n",
       "  '嘉佑二年进士，',\n",
       "  '累官至端明殿学士兼翰林学士，',\n",
       "  '礼部尚书。南宋理学方炽时，',\n",
       "  '加赐谥号文忠，',\n",
       "  '复追赠太师。',\n",
       "  '有《东坡先生大全集》及《东坡乐府》词集传世，',\n",
       "  '宋人王宗稷收其作品，',\n",
       "  '编有《苏文忠公全集》。',\n",
       "  '\\n其散文、诗、词、赋均有成就，',\n",
       "  '且善书法和绘画，',\n",
       "  '是文学艺术史上的通才，',\n",
       "  '也是公认韵文散文造诣皆比较杰出的大家。',\n",
       "  '苏轼的散文为唐宋四家（韩愈、柳宗元、欧苏）之末，',\n",
       "  '与唐代的古文运动发起者韩愈并称为「韩潮苏海」，',\n",
       "  '也与欧阳修并称「欧苏」；',\n",
       "  '更与父亲苏洵、弟苏辙合称「三苏」，',\n",
       "  '父子三人，同列唐宋八大家。',\n",
       "  '苏轼之诗与黄庭坚并称「苏黄」，',\n",
       "  '又与陆游并称「苏陆」；',\n",
       "  '其词「以诗入词」，',\n",
       "  '首开词坛「豪放」一派，',\n",
       "  '振作了晚唐、五代以来绮靡的西昆体余风。',\n",
       "  '后世与南宋辛弃疾并称「苏辛」，',\n",
       "  '惟苏轼故作豪放，',\n",
       "  '其实清朗；其赋亦颇有名气，',\n",
       "  '最知名者为贬谪期间借题发挥写的前后《赤壁赋》。',\n",
       "  '宋代每逢科考常出现其文命题之考试，',\n",
       "  '故当时学者曰：「苏文熟，吃羊肉、苏文生，嚼菜羹」。',\n",
       "  '艺术方面，书法名列「苏、黄、米、蔡」北宋四大书法家（宋四家）之首；',\n",
       "  '其画则开创了湖州画派；',\n",
       "  '并在题画文学史上占有举足轻重的地位。'],\n",
       " 'shint': [0, 2, 4],\n",
       " 'question': '苏东坡在中国历史上，是哪一个朝代的人？',\n",
       " 'sentences': ['号东坡居士、铁冠道人。', '嘉佑二年进士，', '累官至端明殿学士兼翰林学士，'],\n",
       " 'sentence_mask': [0, 0, 0],\n",
       " 'label': 0}"
      ]
     },
     "execution_count": 11,
     "metadata": {},
     "output_type": "execute_result"
    }
   ],
   "source": [
    "examples[5].__dict__"
   ]
  },
  {
   "cell_type": "code",
   "execution_count": 8,
   "metadata": {},
   "outputs": [],
   "source": [
    "# attentionDataset[0]"
   ]
  },
  {
   "cell_type": "code",
   "execution_count": null,
   "metadata": {},
   "outputs": [],
   "source": []
  }
 ],
 "metadata": {
  "kernelspec": {
   "display_name": "Python 3",
   "language": "python",
   "name": "python3"
  },
  "language_info": {
   "codemirror_mode": {
    "name": "ipython",
    "version": 3
   },
   "file_extension": ".py",
   "mimetype": "text/x-python",
   "name": "python",
   "nbconvert_exporter": "python",
   "pygments_lexer": "ipython3",
   "version": "3.6.8"
  }
 },
 "nbformat": 4,
 "nbformat_minor": 4
}
